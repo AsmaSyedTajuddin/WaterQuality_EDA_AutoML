{
 "cells": [
  {
   "cell_type": "markdown",
   "id": "24cb9c58",
   "metadata": {
    "papermill": {
     "duration": 0.023536,
     "end_time": "2021-07-27T12:43:54.426927",
     "exception": false,
     "start_time": "2021-07-27T12:43:54.403391",
     "status": "completed"
    },
    "tags": []
   },
   "source": [
    "<br>\n",
    "<h1 style = \"font-size:40px; font-family:Garamond ; font-weight : normal; background-color: #C66363 ; color : #E8D6D8; text-align: center; border-radius: 100px 100px;\">CONTENT </h1>\n",
    "<br>\n",
    "\n",
    "* [Add Libaries](#1)\n",
    "* [Load and Examine Data](#2)\n",
    "* [Quick Look With Visualization](#3)\n",
    "* [Processing Data](#4)\n",
    "* [Model Training](#5)"
   ]
  },
  {
   "cell_type": "markdown",
   "id": "d167ec80",
   "metadata": {
    "papermill": {
     "duration": 0.022246,
     "end_time": "2021-07-27T12:43:54.472593",
     "exception": false,
     "start_time": "2021-07-27T12:43:54.450347",
     "status": "completed"
    },
    "tags": []
   },
   "source": [
    "<a id=\"1\"> </a>\n",
    "# Add Libaries"
   ]
  },
  {
   "cell_type": "code",
   "execution_count": 1,
   "id": "7dd6028b",
   "metadata": {
    "_cell_guid": "b1076dfc-b9ad-4769-8c92-a6c4dae69d19",
    "_uuid": "8f2839f25d086af736a60e9eeb907d3b93b6e0e5",
    "execution": {
     "iopub.execute_input": "2021-07-27T12:43:54.521649Z",
     "iopub.status.busy": "2021-07-27T12:43:54.520519Z",
     "iopub.status.idle": "2021-07-27T12:43:55.864724Z",
     "shell.execute_reply": "2021-07-27T12:43:55.864078Z",
     "shell.execute_reply.started": "2021-07-27T10:26:04.454319Z"
    },
    "papermill": {
     "duration": 1.369714,
     "end_time": "2021-07-27T12:43:55.864879",
     "exception": false,
     "start_time": "2021-07-27T12:43:54.495165",
     "status": "completed"
    },
    "tags": []
   },
   "outputs": [
    {
     "name": "stdout",
     "output_type": "stream",
     "text": [
      "/kaggle/input/water-potability/water_potability.csv\n"
     ]
    }
   ],
   "source": [
    "import numpy as np # linear algebra\n",
    "import pandas as pd \n",
    "import matplotlib.pyplot as plt\n",
    "import seaborn as sns\n",
    "from collections import Counter\n",
    "from sklearn.model_selection import train_test_split, StratifiedKFold, GridSearchCV\n",
    "from sklearn.linear_model import LogisticRegression\n",
    "from sklearn.svm import SVC\n",
    "from sklearn.ensemble import RandomForestClassifier, VotingClassifier\n",
    "from sklearn.neighbors import KNeighborsClassifier\n",
    "from sklearn.tree import DecisionTreeClassifier\n",
    "from sklearn.metrics import accuracy_score\n",
    "from sklearn import preprocessing\n",
    "from sklearn.naive_bayes import GaussianNB\n",
    "from sklearn.ensemble import GradientBoostingClassifier\n",
    "\n",
    "\n",
    "# Input data files are available in the read-only \"../input/\" directory\n",
    "# For example, running this (by clicking run or pressing Shift+Enter) will list all files under the input directory\n",
    "\n",
    "import os\n",
    "for dirname, _, filenames in os.walk('/kaggle/input'):\n",
    "    for filename in filenames:\n",
    "        print(os.path.join(dirname, filename))\n",
    "\n",
    "import warnings\n",
    "warnings.filterwarnings(\"ignore\")"
   ]
  },
  {
   "cell_type": "markdown",
   "id": "7bddbcea",
   "metadata": {
    "papermill": {
     "duration": 0.022777,
     "end_time": "2021-07-27T12:43:55.911215",
     "exception": false,
     "start_time": "2021-07-27T12:43:55.888438",
     "status": "completed"
    },
    "tags": []
   },
   "source": [
    "<a id=\"2\"> </a>\n",
    "# Load and Examine Data"
   ]
  },
  {
   "cell_type": "code",
   "execution_count": 2,
   "id": "f4e26e38",
   "metadata": {
    "execution": {
     "iopub.execute_input": "2021-07-27T12:43:55.963433Z",
     "iopub.status.busy": "2021-07-27T12:43:55.962762Z",
     "iopub.status.idle": "2021-07-27T12:43:55.998109Z",
     "shell.execute_reply": "2021-07-27T12:43:55.997532Z",
     "shell.execute_reply.started": "2021-07-27T10:26:04.500274Z"
    },
    "papermill": {
     "duration": 0.063407,
     "end_time": "2021-07-27T12:43:55.998257",
     "exception": false,
     "start_time": "2021-07-27T12:43:55.934850",
     "status": "completed"
    },
    "tags": []
   },
   "outputs": [],
   "source": [
    "train_df = pd.read_csv(\"../input/water-potability/water_potability.csv\")"
   ]
  },
  {
   "cell_type": "code",
   "execution_count": 3,
   "id": "3c55e3e5",
   "metadata": {
    "execution": {
     "iopub.execute_input": "2021-07-27T12:43:56.047351Z",
     "iopub.status.busy": "2021-07-27T12:43:56.046606Z",
     "iopub.status.idle": "2021-07-27T12:43:56.075903Z",
     "shell.execute_reply": "2021-07-27T12:43:56.076539Z",
     "shell.execute_reply.started": "2021-07-27T10:26:04.532983Z"
    },
    "papermill": {
     "duration": 0.055411,
     "end_time": "2021-07-27T12:43:56.076730",
     "exception": false,
     "start_time": "2021-07-27T12:43:56.021319",
     "status": "completed"
    },
    "tags": []
   },
   "outputs": [
    {
     "data": {
      "text/html": [
       "<div>\n",
       "<style scoped>\n",
       "    .dataframe tbody tr th:only-of-type {\n",
       "        vertical-align: middle;\n",
       "    }\n",
       "\n",
       "    .dataframe tbody tr th {\n",
       "        vertical-align: top;\n",
       "    }\n",
       "\n",
       "    .dataframe thead th {\n",
       "        text-align: right;\n",
       "    }\n",
       "</style>\n",
       "<table border=\"1\" class=\"dataframe\">\n",
       "  <thead>\n",
       "    <tr style=\"text-align: right;\">\n",
       "      <th></th>\n",
       "      <th>ph</th>\n",
       "      <th>Hardness</th>\n",
       "      <th>Solids</th>\n",
       "      <th>Chloramines</th>\n",
       "      <th>Sulfate</th>\n",
       "      <th>Conductivity</th>\n",
       "      <th>Organic_carbon</th>\n",
       "      <th>Trihalomethanes</th>\n",
       "      <th>Turbidity</th>\n",
       "      <th>Potability</th>\n",
       "    </tr>\n",
       "  </thead>\n",
       "  <tbody>\n",
       "    <tr>\n",
       "      <th>0</th>\n",
       "      <td>NaN</td>\n",
       "      <td>204.890455</td>\n",
       "      <td>20791.318981</td>\n",
       "      <td>7.300212</td>\n",
       "      <td>368.516441</td>\n",
       "      <td>564.308654</td>\n",
       "      <td>10.379783</td>\n",
       "      <td>86.990970</td>\n",
       "      <td>2.963135</td>\n",
       "      <td>0</td>\n",
       "    </tr>\n",
       "    <tr>\n",
       "      <th>1</th>\n",
       "      <td>3.716080</td>\n",
       "      <td>129.422921</td>\n",
       "      <td>18630.057858</td>\n",
       "      <td>6.635246</td>\n",
       "      <td>NaN</td>\n",
       "      <td>592.885359</td>\n",
       "      <td>15.180013</td>\n",
       "      <td>56.329076</td>\n",
       "      <td>4.500656</td>\n",
       "      <td>0</td>\n",
       "    </tr>\n",
       "    <tr>\n",
       "      <th>2</th>\n",
       "      <td>8.099124</td>\n",
       "      <td>224.236259</td>\n",
       "      <td>19909.541732</td>\n",
       "      <td>9.275884</td>\n",
       "      <td>NaN</td>\n",
       "      <td>418.606213</td>\n",
       "      <td>16.868637</td>\n",
       "      <td>66.420093</td>\n",
       "      <td>3.055934</td>\n",
       "      <td>0</td>\n",
       "    </tr>\n",
       "    <tr>\n",
       "      <th>3</th>\n",
       "      <td>8.316766</td>\n",
       "      <td>214.373394</td>\n",
       "      <td>22018.417441</td>\n",
       "      <td>8.059332</td>\n",
       "      <td>356.886136</td>\n",
       "      <td>363.266516</td>\n",
       "      <td>18.436524</td>\n",
       "      <td>100.341674</td>\n",
       "      <td>4.628771</td>\n",
       "      <td>0</td>\n",
       "    </tr>\n",
       "    <tr>\n",
       "      <th>4</th>\n",
       "      <td>9.092223</td>\n",
       "      <td>181.101509</td>\n",
       "      <td>17978.986339</td>\n",
       "      <td>6.546600</td>\n",
       "      <td>310.135738</td>\n",
       "      <td>398.410813</td>\n",
       "      <td>11.558279</td>\n",
       "      <td>31.997993</td>\n",
       "      <td>4.075075</td>\n",
       "      <td>0</td>\n",
       "    </tr>\n",
       "  </tbody>\n",
       "</table>\n",
       "</div>"
      ],
      "text/plain": [
       "         ph    Hardness        Solids  Chloramines     Sulfate  Conductivity  \\\n",
       "0       NaN  204.890455  20791.318981     7.300212  368.516441    564.308654   \n",
       "1  3.716080  129.422921  18630.057858     6.635246         NaN    592.885359   \n",
       "2  8.099124  224.236259  19909.541732     9.275884         NaN    418.606213   \n",
       "3  8.316766  214.373394  22018.417441     8.059332  356.886136    363.266516   \n",
       "4  9.092223  181.101509  17978.986339     6.546600  310.135738    398.410813   \n",
       "\n",
       "   Organic_carbon  Trihalomethanes  Turbidity  Potability  \n",
       "0       10.379783        86.990970   2.963135           0  \n",
       "1       15.180013        56.329076   4.500656           0  \n",
       "2       16.868637        66.420093   3.055934           0  \n",
       "3       18.436524       100.341674   4.628771           0  \n",
       "4       11.558279        31.997993   4.075075           0  "
      ]
     },
     "execution_count": 3,
     "metadata": {},
     "output_type": "execute_result"
    }
   ],
   "source": [
    "train_df.head()"
   ]
  },
  {
   "cell_type": "code",
   "execution_count": 4,
   "id": "701eecc5",
   "metadata": {
    "execution": {
     "iopub.execute_input": "2021-07-27T12:43:56.126201Z",
     "iopub.status.busy": "2021-07-27T12:43:56.125595Z",
     "iopub.status.idle": "2021-07-27T12:43:56.169441Z",
     "shell.execute_reply": "2021-07-27T12:43:56.169933Z",
     "shell.execute_reply.started": "2021-07-27T10:26:04.553958Z"
    },
    "papermill": {
     "duration": 0.070047,
     "end_time": "2021-07-27T12:43:56.170113",
     "exception": false,
     "start_time": "2021-07-27T12:43:56.100066",
     "status": "completed"
    },
    "tags": []
   },
   "outputs": [
    {
     "data": {
      "text/html": [
       "<div>\n",
       "<style scoped>\n",
       "    .dataframe tbody tr th:only-of-type {\n",
       "        vertical-align: middle;\n",
       "    }\n",
       "\n",
       "    .dataframe tbody tr th {\n",
       "        vertical-align: top;\n",
       "    }\n",
       "\n",
       "    .dataframe thead th {\n",
       "        text-align: right;\n",
       "    }\n",
       "</style>\n",
       "<table border=\"1\" class=\"dataframe\">\n",
       "  <thead>\n",
       "    <tr style=\"text-align: right;\">\n",
       "      <th></th>\n",
       "      <th>ph</th>\n",
       "      <th>Hardness</th>\n",
       "      <th>Solids</th>\n",
       "      <th>Chloramines</th>\n",
       "      <th>Sulfate</th>\n",
       "      <th>Conductivity</th>\n",
       "      <th>Organic_carbon</th>\n",
       "      <th>Trihalomethanes</th>\n",
       "      <th>Turbidity</th>\n",
       "      <th>Potability</th>\n",
       "    </tr>\n",
       "  </thead>\n",
       "  <tbody>\n",
       "    <tr>\n",
       "      <th>count</th>\n",
       "      <td>2785.000000</td>\n",
       "      <td>3276.000000</td>\n",
       "      <td>3276.000000</td>\n",
       "      <td>3276.000000</td>\n",
       "      <td>2495.000000</td>\n",
       "      <td>3276.000000</td>\n",
       "      <td>3276.000000</td>\n",
       "      <td>3114.000000</td>\n",
       "      <td>3276.000000</td>\n",
       "      <td>3276.000000</td>\n",
       "    </tr>\n",
       "    <tr>\n",
       "      <th>mean</th>\n",
       "      <td>7.080795</td>\n",
       "      <td>196.369496</td>\n",
       "      <td>22014.092526</td>\n",
       "      <td>7.122277</td>\n",
       "      <td>333.775777</td>\n",
       "      <td>426.205111</td>\n",
       "      <td>14.284970</td>\n",
       "      <td>66.396293</td>\n",
       "      <td>3.966786</td>\n",
       "      <td>0.390110</td>\n",
       "    </tr>\n",
       "    <tr>\n",
       "      <th>std</th>\n",
       "      <td>1.594320</td>\n",
       "      <td>32.879761</td>\n",
       "      <td>8768.570828</td>\n",
       "      <td>1.583085</td>\n",
       "      <td>41.416840</td>\n",
       "      <td>80.824064</td>\n",
       "      <td>3.308162</td>\n",
       "      <td>16.175008</td>\n",
       "      <td>0.780382</td>\n",
       "      <td>0.487849</td>\n",
       "    </tr>\n",
       "    <tr>\n",
       "      <th>min</th>\n",
       "      <td>0.000000</td>\n",
       "      <td>47.432000</td>\n",
       "      <td>320.942611</td>\n",
       "      <td>0.352000</td>\n",
       "      <td>129.000000</td>\n",
       "      <td>181.483754</td>\n",
       "      <td>2.200000</td>\n",
       "      <td>0.738000</td>\n",
       "      <td>1.450000</td>\n",
       "      <td>0.000000</td>\n",
       "    </tr>\n",
       "    <tr>\n",
       "      <th>25%</th>\n",
       "      <td>6.093092</td>\n",
       "      <td>176.850538</td>\n",
       "      <td>15666.690297</td>\n",
       "      <td>6.127421</td>\n",
       "      <td>307.699498</td>\n",
       "      <td>365.734414</td>\n",
       "      <td>12.065801</td>\n",
       "      <td>55.844536</td>\n",
       "      <td>3.439711</td>\n",
       "      <td>0.000000</td>\n",
       "    </tr>\n",
       "    <tr>\n",
       "      <th>50%</th>\n",
       "      <td>7.036752</td>\n",
       "      <td>196.967627</td>\n",
       "      <td>20927.833607</td>\n",
       "      <td>7.130299</td>\n",
       "      <td>333.073546</td>\n",
       "      <td>421.884968</td>\n",
       "      <td>14.218338</td>\n",
       "      <td>66.622485</td>\n",
       "      <td>3.955028</td>\n",
       "      <td>0.000000</td>\n",
       "    </tr>\n",
       "    <tr>\n",
       "      <th>75%</th>\n",
       "      <td>8.062066</td>\n",
       "      <td>216.667456</td>\n",
       "      <td>27332.762127</td>\n",
       "      <td>8.114887</td>\n",
       "      <td>359.950170</td>\n",
       "      <td>481.792304</td>\n",
       "      <td>16.557652</td>\n",
       "      <td>77.337473</td>\n",
       "      <td>4.500320</td>\n",
       "      <td>1.000000</td>\n",
       "    </tr>\n",
       "    <tr>\n",
       "      <th>max</th>\n",
       "      <td>14.000000</td>\n",
       "      <td>323.124000</td>\n",
       "      <td>61227.196008</td>\n",
       "      <td>13.127000</td>\n",
       "      <td>481.030642</td>\n",
       "      <td>753.342620</td>\n",
       "      <td>28.300000</td>\n",
       "      <td>124.000000</td>\n",
       "      <td>6.739000</td>\n",
       "      <td>1.000000</td>\n",
       "    </tr>\n",
       "  </tbody>\n",
       "</table>\n",
       "</div>"
      ],
      "text/plain": [
       "                ph     Hardness        Solids  Chloramines      Sulfate  \\\n",
       "count  2785.000000  3276.000000   3276.000000  3276.000000  2495.000000   \n",
       "mean      7.080795   196.369496  22014.092526     7.122277   333.775777   \n",
       "std       1.594320    32.879761   8768.570828     1.583085    41.416840   \n",
       "min       0.000000    47.432000    320.942611     0.352000   129.000000   \n",
       "25%       6.093092   176.850538  15666.690297     6.127421   307.699498   \n",
       "50%       7.036752   196.967627  20927.833607     7.130299   333.073546   \n",
       "75%       8.062066   216.667456  27332.762127     8.114887   359.950170   \n",
       "max      14.000000   323.124000  61227.196008    13.127000   481.030642   \n",
       "\n",
       "       Conductivity  Organic_carbon  Trihalomethanes    Turbidity   Potability  \n",
       "count   3276.000000     3276.000000      3114.000000  3276.000000  3276.000000  \n",
       "mean     426.205111       14.284970        66.396293     3.966786     0.390110  \n",
       "std       80.824064        3.308162        16.175008     0.780382     0.487849  \n",
       "min      181.483754        2.200000         0.738000     1.450000     0.000000  \n",
       "25%      365.734414       12.065801        55.844536     3.439711     0.000000  \n",
       "50%      421.884968       14.218338        66.622485     3.955028     0.000000  \n",
       "75%      481.792304       16.557652        77.337473     4.500320     1.000000  \n",
       "max      753.342620       28.300000       124.000000     6.739000     1.000000  "
      ]
     },
     "execution_count": 4,
     "metadata": {},
     "output_type": "execute_result"
    }
   ],
   "source": [
    "train_df.describe()"
   ]
  },
  {
   "cell_type": "code",
   "execution_count": 5,
   "id": "255193b0",
   "metadata": {
    "execution": {
     "iopub.execute_input": "2021-07-27T12:43:56.221192Z",
     "iopub.status.busy": "2021-07-27T12:43:56.220587Z",
     "iopub.status.idle": "2021-07-27T12:43:56.236988Z",
     "shell.execute_reply": "2021-07-27T12:43:56.237646Z",
     "shell.execute_reply.started": "2021-07-27T10:26:04.600393Z"
    },
    "papermill": {
     "duration": 0.04366,
     "end_time": "2021-07-27T12:43:56.237825",
     "exception": false,
     "start_time": "2021-07-27T12:43:56.194165",
     "status": "completed"
    },
    "tags": []
   },
   "outputs": [
    {
     "name": "stdout",
     "output_type": "stream",
     "text": [
      "<class 'pandas.core.frame.DataFrame'>\n",
      "RangeIndex: 3276 entries, 0 to 3275\n",
      "Data columns (total 10 columns):\n",
      " #   Column           Non-Null Count  Dtype  \n",
      "---  ------           --------------  -----  \n",
      " 0   ph               2785 non-null   float64\n",
      " 1   Hardness         3276 non-null   float64\n",
      " 2   Solids           3276 non-null   float64\n",
      " 3   Chloramines      3276 non-null   float64\n",
      " 4   Sulfate          2495 non-null   float64\n",
      " 5   Conductivity     3276 non-null   float64\n",
      " 6   Organic_carbon   3276 non-null   float64\n",
      " 7   Trihalomethanes  3114 non-null   float64\n",
      " 8   Turbidity        3276 non-null   float64\n",
      " 9   Potability       3276 non-null   int64  \n",
      "dtypes: float64(9), int64(1)\n",
      "memory usage: 256.1 KB\n"
     ]
    }
   ],
   "source": [
    "train_df.info()"
   ]
  },
  {
   "cell_type": "markdown",
   "id": "5c452188",
   "metadata": {
    "papermill": {
     "duration": 0.024211,
     "end_time": "2021-07-27T12:43:56.286668",
     "exception": false,
     "start_time": "2021-07-27T12:43:56.262457",
     "status": "completed"
    },
    "tags": []
   },
   "source": [
    "<a id=\"3\"> </a>\n",
    "# Quick Look With Visualization"
   ]
  },
  {
   "cell_type": "code",
   "execution_count": 6,
   "id": "a4287e37",
   "metadata": {
    "execution": {
     "iopub.execute_input": "2021-07-27T12:43:56.361933Z",
     "iopub.status.busy": "2021-07-27T12:43:56.358419Z",
     "iopub.status.idle": "2021-07-27T12:43:57.819048Z",
     "shell.execute_reply": "2021-07-27T12:43:57.818502Z",
     "shell.execute_reply.started": "2021-07-27T10:26:04.616615Z"
    },
    "papermill": {
     "duration": 1.508151,
     "end_time": "2021-07-27T12:43:57.819204",
     "exception": false,
     "start_time": "2021-07-27T12:43:56.311053",
     "status": "completed"
    },
    "tags": []
   },
   "outputs": [
    {
     "data": {
      "text/plain": [
       "<AxesSubplot:xlabel='Potability', ylabel='Turbidity'>"
      ]
     },
     "execution_count": 6,
     "metadata": {},
     "output_type": "execute_result"
    },
    {
     "data": {
      "image/png": "[encoded data removed]",
      "text/plain": [
       "<Figure size 1296x1008 with 9 Axes>"
      ]
     },
     "metadata": {
      "needs_background": "light"
     },
     "output_type": "display_data"
    }
   ],
   "source": [
    "fig, axes = plt.subplots(3, 3, figsize=(18, 14))\n",
    "\n",
    "fig.suptitle('Risk Analysis')\n",
    "\n",
    "sns.boxplot(ax=axes[0, 0], data=train_df, x='Potability', y='ph',palette=(\"ch:start=.2,rot=-.3\"))\n",
    "sns.boxplot(ax=axes[0, 1], data=train_df, x='Potability', y='Hardness',palette=(\"ch:start=.2,rot=-.3\"))\n",
    "sns.boxplot(ax=axes[0, 2], data=train_df, x='Potability', y='Solids',palette=(\"ch:start=.2,rot=-.3\"))\n",
    "sns.boxplot(ax=axes[1, 0], data=train_df, x='Potability', y='Chloramines',palette=(\"ch:start=.2,rot=-.3\"))\n",
    "sns.boxplot(ax=axes[1, 1], data=train_df, x='Potability', y='Sulfate',palette=(\"ch:start=.2,rot=-.3\"))\n",
    "sns.boxplot(ax=axes[1, 2], data=train_df, x='Potability', y='Conductivity',palette=(\"ch:start=.2,rot=-.3\"))\n",
    "sns.boxplot(ax=axes[2, 0], data=train_df, x='Potability', y='Organic_carbon',palette=(\"ch:start=.2,rot=-.3\"))\n",
    "sns.boxplot(ax=axes[2, 1], data=train_df, x='Potability', y='Trihalomethanes',palette=(\"ch:start=.2,rot=-.3\"))\n",
    "sns.boxplot(ax=axes[2, 2], data=train_df, x='Potability', y='Turbidity',palette=(\"ch:start=.2,rot=-.3\"))"
   ]
  },
  {
   "cell_type": "code",
   "execution_count": 7,
   "id": "c13a4ba0",
   "metadata": {
    "execution": {
     "iopub.execute_input": "2021-07-27T12:43:57.878946Z",
     "iopub.status.busy": "2021-07-27T12:43:57.878318Z",
     "iopub.status.idle": "2021-07-27T12:43:58.733686Z",
     "shell.execute_reply": "2021-07-27T12:43:58.734308Z",
     "shell.execute_reply.started": "2021-07-27T10:26:06.089782Z"
    },
    "papermill": {
     "duration": 0.888101,
     "end_time": "2021-07-27T12:43:58.734561",
     "exception": false,
     "start_time": "2021-07-27T12:43:57.846460",
     "status": "completed"
    },
    "tags": []
   },
   "outputs": [
    {
     "data": {
      "image/png": "[encoded data removed]",
      "text/plain": [
       "<Figure size 432x288 with 2 Axes>"
      ]
     },
     "metadata": {
      "needs_background": "light"
     },
     "output_type": "display_data"
    }
   ],
   "source": [
    "corr_df=train_df\n",
    "corrMatrix = corr_df.corr()\n",
    "sns.heatmap(corrMatrix, annot=True ,cmap=\"Blues\")\n",
    "sns.set(rc={'figure.figsize':(10,10)})"
   ]
  },
  {
   "cell_type": "markdown",
   "id": "659a40bd",
   "metadata": {
    "papermill": {
     "duration": 0.029217,
     "end_time": "2021-07-27T12:43:58.793840",
     "exception": false,
     "start_time": "2021-07-27T12:43:58.764623",
     "status": "completed"
    },
    "tags": []
   },
   "source": [
    "<a id=\"4\"> </a>\n",
    "# Processing Data"
   ]
  },
  {
   "cell_type": "code",
   "execution_count": 8,
   "id": "fb75a8a2",
   "metadata": {
    "execution": {
     "iopub.execute_input": "2021-07-27T12:43:58.858575Z",
     "iopub.status.busy": "2021-07-27T12:43:58.857853Z",
     "iopub.status.idle": "2021-07-27T12:43:58.861130Z",
     "shell.execute_reply": "2021-07-27T12:43:58.860569Z",
     "shell.execute_reply.started": "2021-07-27T10:26:07.153043Z"
    },
    "papermill": {
     "duration": 0.038468,
     "end_time": "2021-07-27T12:43:58.861273",
     "exception": false,
     "start_time": "2021-07-27T12:43:58.822805",
     "status": "completed"
    },
    "tags": []
   },
   "outputs": [],
   "source": [
    "def detect_miss(df,features):\n",
    "    miss_indices = []\n",
    "    \n",
    "    for c in features:\n",
    "        \n",
    "        miss_list_col = df[df[c].isna()].index\n",
    "        miss_indices.extend(miss_list_col)\n",
    "    \n",
    "    miss_indices = Counter(miss_indices)\n",
    "    multiple_miss = list(i for i, v in miss_indices.items() if v > 2)\n",
    "    \n",
    "    return multiple_miss"
   ]
  },
  {
   "cell_type": "code",
   "execution_count": 9,
   "id": "1c131a8e",
   "metadata": {
    "execution": {
     "iopub.execute_input": "2021-07-27T12:43:58.942097Z",
     "iopub.status.busy": "2021-07-27T12:43:58.941419Z",
     "iopub.status.idle": "2021-07-27T12:43:58.947220Z",
     "shell.execute_reply": "2021-07-27T12:43:58.946644Z",
     "shell.execute_reply.started": "2021-07-27T10:26:07.159721Z"
    },
    "papermill": {
     "duration": 0.05688,
     "end_time": "2021-07-27T12:43:58.947358",
     "exception": false,
     "start_time": "2021-07-27T12:43:58.890478",
     "status": "completed"
    },
    "tags": []
   },
   "outputs": [
    {
     "data": {
      "text/html": [
       "<div>\n",
       "<style scoped>\n",
       "    .dataframe tbody tr th:only-of-type {\n",
       "        vertical-align: middle;\n",
       "    }\n",
       "\n",
       "    .dataframe tbody tr th {\n",
       "        vertical-align: top;\n",
       "    }\n",
       "\n",
       "    .dataframe thead th {\n",
       "        text-align: right;\n",
       "    }\n",
       "</style>\n",
       "<table border=\"1\" class=\"dataframe\">\n",
       "  <thead>\n",
       "    <tr style=\"text-align: right;\">\n",
       "      <th></th>\n",
       "      <th>ph</th>\n",
       "      <th>Hardness</th>\n",
       "      <th>Solids</th>\n",
       "      <th>Chloramines</th>\n",
       "      <th>Sulfate</th>\n",
       "      <th>Conductivity</th>\n",
       "      <th>Organic_carbon</th>\n",
       "      <th>Trihalomethanes</th>\n",
       "      <th>Turbidity</th>\n",
       "      <th>Potability</th>\n",
       "    </tr>\n",
       "  </thead>\n",
       "  <tbody>\n",
       "    <tr>\n",
       "      <th>141</th>\n",
       "      <td>NaN</td>\n",
       "      <td>167.386127</td>\n",
       "      <td>20944.620814</td>\n",
       "      <td>4.963124</td>\n",
       "      <td>NaN</td>\n",
       "      <td>566.339294</td>\n",
       "      <td>11.318807</td>\n",
       "      <td>NaN</td>\n",
       "      <td>3.679795</td>\n",
       "      <td>0</td>\n",
       "    </tr>\n",
       "    <tr>\n",
       "      <th>201</th>\n",
       "      <td>NaN</td>\n",
       "      <td>229.771350</td>\n",
       "      <td>16162.262307</td>\n",
       "      <td>4.933662</td>\n",
       "      <td>NaN</td>\n",
       "      <td>448.846036</td>\n",
       "      <td>8.816487</td>\n",
       "      <td>NaN</td>\n",
       "      <td>4.600928</td>\n",
       "      <td>0</td>\n",
       "    </tr>\n",
       "    <tr>\n",
       "      <th>387</th>\n",
       "      <td>NaN</td>\n",
       "      <td>143.300200</td>\n",
       "      <td>16263.167465</td>\n",
       "      <td>6.229737</td>\n",
       "      <td>NaN</td>\n",
       "      <td>503.664085</td>\n",
       "      <td>19.585497</td>\n",
       "      <td>NaN</td>\n",
       "      <td>3.451740</td>\n",
       "      <td>1</td>\n",
       "    </tr>\n",
       "    <tr>\n",
       "      <th>646</th>\n",
       "      <td>NaN</td>\n",
       "      <td>221.620058</td>\n",
       "      <td>11954.700730</td>\n",
       "      <td>6.657053</td>\n",
       "      <td>NaN</td>\n",
       "      <td>391.238714</td>\n",
       "      <td>12.961433</td>\n",
       "      <td>NaN</td>\n",
       "      <td>3.282061</td>\n",
       "      <td>0</td>\n",
       "    </tr>\n",
       "    <tr>\n",
       "      <th>929</th>\n",
       "      <td>NaN</td>\n",
       "      <td>202.079864</td>\n",
       "      <td>12519.090660</td>\n",
       "      <td>7.627524</td>\n",
       "      <td>NaN</td>\n",
       "      <td>399.883388</td>\n",
       "      <td>12.748217</td>\n",
       "      <td>NaN</td>\n",
       "      <td>4.439215</td>\n",
       "      <td>0</td>\n",
       "    </tr>\n",
       "    <tr>\n",
       "      <th>992</th>\n",
       "      <td>NaN</td>\n",
       "      <td>226.765646</td>\n",
       "      <td>39942.953898</td>\n",
       "      <td>8.594715</td>\n",
       "      <td>NaN</td>\n",
       "      <td>538.621803</td>\n",
       "      <td>13.744749</td>\n",
       "      <td>NaN</td>\n",
       "      <td>4.863378</td>\n",
       "      <td>0</td>\n",
       "    </tr>\n",
       "    <tr>\n",
       "      <th>2065</th>\n",
       "      <td>NaN</td>\n",
       "      <td>184.993731</td>\n",
       "      <td>19764.627445</td>\n",
       "      <td>7.505092</td>\n",
       "      <td>NaN</td>\n",
       "      <td>293.477998</td>\n",
       "      <td>12.934160</td>\n",
       "      <td>NaN</td>\n",
       "      <td>3.017985</td>\n",
       "      <td>0</td>\n",
       "    </tr>\n",
       "    <tr>\n",
       "      <th>3062</th>\n",
       "      <td>NaN</td>\n",
       "      <td>209.531697</td>\n",
       "      <td>44982.734155</td>\n",
       "      <td>8.898024</td>\n",
       "      <td>NaN</td>\n",
       "      <td>349.385235</td>\n",
       "      <td>15.653299</td>\n",
       "      <td>NaN</td>\n",
       "      <td>3.832479</td>\n",
       "      <td>0</td>\n",
       "    </tr>\n",
       "    <tr>\n",
       "      <th>3067</th>\n",
       "      <td>NaN</td>\n",
       "      <td>193.091260</td>\n",
       "      <td>17777.100086</td>\n",
       "      <td>6.087949</td>\n",
       "      <td>NaN</td>\n",
       "      <td>543.114953</td>\n",
       "      <td>10.717588</td>\n",
       "      <td>NaN</td>\n",
       "      <td>3.878664</td>\n",
       "      <td>0</td>\n",
       "    </tr>\n",
       "  </tbody>\n",
       "</table>\n",
       "</div>"
      ],
      "text/plain": [
       "      ph    Hardness        Solids  Chloramines  Sulfate  Conductivity  \\\n",
       "141  NaN  167.386127  20944.620814     4.963124      NaN    566.339294   \n",
       "201  NaN  229.771350  16162.262307     4.933662      NaN    448.846036   \n",
       "387  NaN  143.300200  16263.167465     6.229737      NaN    503.664085   \n",
       "646  NaN  221.620058  11954.700730     6.657053      NaN    391.238714   \n",
       "929  NaN  202.079864  12519.090660     7.627524      NaN    399.883388   \n",
       "992  NaN  226.765646  39942.953898     8.594715      NaN    538.621803   \n",
       "2065 NaN  184.993731  19764.627445     7.505092      NaN    293.477998   \n",
       "3062 NaN  209.531697  44982.734155     8.898024      NaN    349.385235   \n",
       "3067 NaN  193.091260  17777.100086     6.087949      NaN    543.114953   \n",
       "\n",
       "      Organic_carbon  Trihalomethanes  Turbidity  Potability  \n",
       "141        11.318807              NaN   3.679795           0  \n",
       "201         8.816487              NaN   4.600928           0  \n",
       "387        19.585497              NaN   3.451740           1  \n",
       "646        12.961433              NaN   3.282061           0  \n",
       "929        12.748217              NaN   4.439215           0  \n",
       "992        13.744749              NaN   4.863378           0  \n",
       "2065       12.934160              NaN   3.017985           0  \n",
       "3062       15.653299              NaN   3.832479           0  \n",
       "3067       10.717588              NaN   3.878664           0  "
      ]
     },
     "execution_count": 9,
     "metadata": {},
     "output_type": "execute_result"
    }
   ],
   "source": [
    "train_df.loc[detect_miss(train_df,['ph','Hardness','Solids','Sulfate','Conductivity','Organic_carbon','Trihalomethanes' ,'Turbidity'])]"
   ]
  },
  {
   "cell_type": "code",
   "execution_count": 10,
   "id": "02a65740",
   "metadata": {
    "execution": {
     "iopub.execute_input": "2021-07-27T12:43:59.016667Z",
     "iopub.status.busy": "2021-07-27T12:43:59.013907Z",
     "iopub.status.idle": "2021-07-27T12:43:59.021406Z",
     "shell.execute_reply": "2021-07-27T12:43:59.020840Z",
     "shell.execute_reply.started": "2021-07-27T10:26:07.191851Z"
    },
    "papermill": {
     "duration": 0.044335,
     "end_time": "2021-07-27T12:43:59.021547",
     "exception": false,
     "start_time": "2021-07-27T12:43:58.977212",
     "status": "completed"
    },
    "tags": []
   },
   "outputs": [],
   "source": [
    "train_df = train_df.drop(detect_miss(train_df,['ph','Hardness','Solids','Sulfate','Conductivity','Organic_carbon','Trihalomethanes' ,'Turbidity']),axis = 0).reset_index(drop = True)"
   ]
  },
  {
   "cell_type": "code",
   "execution_count": 11,
   "id": "35d49fc6",
   "metadata": {
    "execution": {
     "iopub.execute_input": "2021-07-27T12:43:59.088154Z",
     "iopub.status.busy": "2021-07-27T12:43:59.087496Z",
     "iopub.status.idle": "2021-07-27T12:43:59.089498Z",
     "shell.execute_reply": "2021-07-27T12:43:59.089985Z",
     "shell.execute_reply.started": "2021-07-27T10:26:07.203745Z"
    },
    "papermill": {
     "duration": 0.038842,
     "end_time": "2021-07-27T12:43:59.090199",
     "exception": false,
     "start_time": "2021-07-27T12:43:59.051357",
     "status": "completed"
    },
    "tags": []
   },
   "outputs": [],
   "source": [
    "def detect_outliers(df,features):\n",
    "    outlier_indices = []\n",
    "    \n",
    "    for c in features:\n",
    "        Q1 = np.percentile(df[c],25)\n",
    "        Q3 = np.percentile(df[c],75)\n",
    "        IQR = Q3 - Q1\n",
    "        outlier_step = IQR * 1.5\n",
    "        outlier_list_col = df[(df[c] < Q1 - outlier_step) | (df[c] > Q3 + outlier_step)].index\n",
    "        outlier_indices.extend(outlier_list_col)\n",
    "    \n",
    "    outlier_indices = Counter(outlier_indices)\n",
    "    multiple_outliers = list(i for i, v in outlier_indices.items() if v > 2)\n",
    "    \n",
    "    return multiple_outliers"
   ]
  },
  {
   "cell_type": "code",
   "execution_count": 12,
   "id": "c9015dc0",
   "metadata": {
    "execution": {
     "iopub.execute_input": "2021-07-27T12:43:59.153542Z",
     "iopub.status.busy": "2021-07-27T12:43:59.152871Z",
     "iopub.status.idle": "2021-07-27T12:43:59.191309Z",
     "shell.execute_reply": "2021-07-27T12:43:59.191808Z",
     "shell.execute_reply.started": "2021-07-27T10:26:07.212023Z"
    },
    "papermill": {
     "duration": 0.071416,
     "end_time": "2021-07-27T12:43:59.191984",
     "exception": false,
     "start_time": "2021-07-27T12:43:59.120568",
     "status": "completed"
    },
    "tags": []
   },
   "outputs": [
    {
     "data": {
      "text/html": [
       "<div>\n",
       "<style scoped>\n",
       "    .dataframe tbody tr th:only-of-type {\n",
       "        vertical-align: middle;\n",
       "    }\n",
       "\n",
       "    .dataframe tbody tr th {\n",
       "        vertical-align: top;\n",
       "    }\n",
       "\n",
       "    .dataframe thead th {\n",
       "        text-align: right;\n",
       "    }\n",
       "</style>\n",
       "<table border=\"1\" class=\"dataframe\">\n",
       "  <thead>\n",
       "    <tr style=\"text-align: right;\">\n",
       "      <th></th>\n",
       "      <th>ph</th>\n",
       "      <th>Hardness</th>\n",
       "      <th>Solids</th>\n",
       "      <th>Chloramines</th>\n",
       "      <th>Sulfate</th>\n",
       "      <th>Conductivity</th>\n",
       "      <th>Organic_carbon</th>\n",
       "      <th>Trihalomethanes</th>\n",
       "      <th>Turbidity</th>\n",
       "      <th>Potability</th>\n",
       "    </tr>\n",
       "  </thead>\n",
       "  <tbody>\n",
       "  </tbody>\n",
       "</table>\n",
       "</div>"
      ],
      "text/plain": [
       "Empty DataFrame\n",
       "Columns: [ph, Hardness, Solids, Chloramines, Sulfate, Conductivity, Organic_carbon, Trihalomethanes, Turbidity, Potability]\n",
       "Index: []"
      ]
     },
     "execution_count": 12,
     "metadata": {},
     "output_type": "execute_result"
    }
   ],
   "source": [
    "train_df.loc[detect_outliers(train_df,['ph','Hardness','Solids','Sulfate','Conductivity','Organic_carbon','Trihalomethanes' ,'Turbidity'])]"
   ]
  },
  {
   "cell_type": "code",
   "execution_count": 13,
   "id": "9dcc7d97",
   "metadata": {
    "execution": {
     "iopub.execute_input": "2021-07-27T12:43:59.260807Z",
     "iopub.status.busy": "2021-07-27T12:43:59.259898Z",
     "iopub.status.idle": "2021-07-27T12:43:59.264379Z",
     "shell.execute_reply": "2021-07-27T12:43:59.263752Z",
     "shell.execute_reply.started": "2021-07-27T10:26:07.251022Z"
    },
    "papermill": {
     "duration": 0.042066,
     "end_time": "2021-07-27T12:43:59.264516",
     "exception": false,
     "start_time": "2021-07-27T12:43:59.222450",
     "status": "completed"
    },
    "tags": []
   },
   "outputs": [
    {
     "data": {
      "text/plain": [
       "ph                 482\n",
       "Hardness             0\n",
       "Solids               0\n",
       "Chloramines          0\n",
       "Sulfate            772\n",
       "Conductivity         0\n",
       "Organic_carbon       0\n",
       "Trihalomethanes    153\n",
       "Turbidity            0\n",
       "Potability           0\n",
       "dtype: int64"
      ]
     },
     "execution_count": 13,
     "metadata": {},
     "output_type": "execute_result"
    }
   ],
   "source": [
    "train_df.isnull().sum()"
   ]
  },
  {
   "cell_type": "code",
   "execution_count": 14,
   "id": "339d7582",
   "metadata": {
    "execution": {
     "iopub.execute_input": "2021-07-27T12:43:59.334396Z",
     "iopub.status.busy": "2021-07-27T12:43:59.333542Z",
     "iopub.status.idle": "2021-07-27T12:43:59.336913Z",
     "shell.execute_reply": "2021-07-27T12:43:59.336389Z",
     "shell.execute_reply.started": "2021-07-27T10:26:07.260366Z"
    },
    "papermill": {
     "duration": 0.041889,
     "end_time": "2021-07-27T12:43:59.337066",
     "exception": false,
     "start_time": "2021-07-27T12:43:59.295177",
     "status": "completed"
    },
    "tags": []
   },
   "outputs": [],
   "source": [
    "train_df[\"ph\"] = train_df[\"ph\"].fillna(np.mean(train_df[\"ph\"]))\n",
    "train_df[\"Sulfate\"] = train_df[\"Sulfate\"].fillna(np.mean(train_df[\"Sulfate\"]))\n",
    "train_df[\"Trihalomethanes\"] = train_df[\"Trihalomethanes\"].fillna(np.mean(train_df[\"Trihalomethanes\"]))"
   ]
  },
  {
   "cell_type": "markdown",
   "id": "5d7818e0",
   "metadata": {
    "papermill": {
     "duration": 0.031133,
     "end_time": "2021-07-27T12:43:59.398787",
     "exception": false,
     "start_time": "2021-07-27T12:43:59.367654",
     "status": "completed"
    },
    "tags": []
   },
   "source": [
    "<a id=\"5\"> </a>\n",
    "# Model Training"
   ]
  },
  {
   "cell_type": "code",
   "execution_count": 15,
   "id": "57fc18ba",
   "metadata": {
    "execution": {
     "iopub.execute_input": "2021-07-27T12:43:59.463353Z",
     "iopub.status.busy": "2021-07-27T12:43:59.462694Z",
     "iopub.status.idle": "2021-07-27T12:43:59.468336Z",
     "shell.execute_reply": "2021-07-27T12:43:59.468861Z",
     "shell.execute_reply.started": "2021-07-27T10:26:07.271200Z"
    },
    "papermill": {
     "duration": 0.03934,
     "end_time": "2021-07-27T12:43:59.469056",
     "exception": false,
     "start_time": "2021-07-27T12:43:59.429716",
     "status": "completed"
    },
    "tags": []
   },
   "outputs": [],
   "source": [
    "Y = train_df[['Potability']]\n",
    "X = train_df.drop(['Potability'],axis=1)"
   ]
  },
  {
   "cell_type": "code",
   "execution_count": 16,
   "id": "d617f28e",
   "metadata": {
    "execution": {
     "iopub.execute_input": "2021-07-27T12:43:59.532883Z",
     "iopub.status.busy": "2021-07-27T12:43:59.532223Z",
     "iopub.status.idle": "2021-07-27T12:43:59.540652Z",
     "shell.execute_reply": "2021-07-27T12:43:59.541196Z",
     "shell.execute_reply.started": "2021-07-27T10:26:07.284782Z"
    },
    "papermill": {
     "duration": 0.041882,
     "end_time": "2021-07-27T12:43:59.541367",
     "exception": false,
     "start_time": "2021-07-27T12:43:59.499485",
     "status": "completed"
    },
    "tags": []
   },
   "outputs": [],
   "source": [
    "scaler = preprocessing.StandardScaler().fit(X)\n",
    "X = scaler.transform(X)\n",
    "\n",
    "X = pd.DataFrame(X)"
   ]
  },
  {
   "cell_type": "code",
   "execution_count": 17,
   "id": "b6cac8c2",
   "metadata": {
    "execution": {
     "iopub.execute_input": "2021-07-27T12:43:59.605973Z",
     "iopub.status.busy": "2021-07-27T12:43:59.605339Z",
     "iopub.status.idle": "2021-07-27T12:43:59.610272Z",
     "shell.execute_reply": "2021-07-27T12:43:59.610782Z",
     "shell.execute_reply.started": "2021-07-27T10:26:07.300268Z"
    },
    "papermill": {
     "duration": 0.039326,
     "end_time": "2021-07-27T12:43:59.610947",
     "exception": false,
     "start_time": "2021-07-27T12:43:59.571621",
     "status": "completed"
    },
    "tags": []
   },
   "outputs": [],
   "source": [
    "Y[\"Potability\"] = train_df[\"Potability\"].astype(\"category\")"
   ]
  },
  {
   "cell_type": "code",
   "execution_count": 18,
   "id": "a411207e",
   "metadata": {
    "execution": {
     "iopub.execute_input": "2021-07-27T12:43:59.674983Z",
     "iopub.status.busy": "2021-07-27T12:43:59.674325Z",
     "iopub.status.idle": "2021-07-27T12:43:59.680573Z",
     "shell.execute_reply": "2021-07-27T12:43:59.681119Z",
     "shell.execute_reply.started": "2021-07-27T10:26:07.311276Z"
    },
    "papermill": {
     "duration": 0.039705,
     "end_time": "2021-07-27T12:43:59.681284",
     "exception": false,
     "start_time": "2021-07-27T12:43:59.641579",
     "status": "completed"
    },
    "tags": []
   },
   "outputs": [],
   "source": [
    "X_train, X_test, y_train, y_test = train_test_split(X,Y, test_size = 0.25, random_state = 42)"
   ]
  },
  {
   "cell_type": "code",
   "execution_count": 19,
   "id": "2950747f",
   "metadata": {
    "execution": {
     "iopub.execute_input": "2021-07-27T12:43:59.745193Z",
     "iopub.status.busy": "2021-07-27T12:43:59.744518Z",
     "iopub.status.idle": "2021-07-27T12:43:59.931581Z",
     "shell.execute_reply": "2021-07-27T12:43:59.932947Z",
     "shell.execute_reply.started": "2021-07-27T10:26:07.323496Z"
    },
    "papermill": {
     "duration": 0.221607,
     "end_time": "2021-07-27T12:43:59.933225",
     "exception": false,
     "start_time": "2021-07-27T12:43:59.711618",
     "status": "completed"
    },
    "tags": []
   },
   "outputs": [
    {
     "name": "stdout",
     "output_type": "stream",
     "text": [
      "Training Accuracy: % 60.08\n",
      "Testing Accuracy: % 63.65\n"
     ]
    }
   ],
   "source": [
    "logreg = LogisticRegression()\n",
    "logreg.fit(X_train, y_train)\n",
    "acc_log_train = round(logreg.score(X_train, y_train)*100,2) \n",
    "acc_log_test = round(logreg.score(X_test,y_test)*100,2)\n",
    "print(\"Training Accuracy: % {}\".format(acc_log_train))\n",
    "print(\"Testing Accuracy: % {}\".format(acc_log_test))"
   ]
  },
  {
   "cell_type": "code",
   "execution_count": 20,
   "id": "166c6dd0",
   "metadata": {
    "execution": {
     "iopub.execute_input": "2021-07-27T12:44:00.052424Z",
     "iopub.status.busy": "2021-07-27T12:44:00.051494Z",
     "iopub.status.idle": "2021-07-27T12:44:00.054506Z",
     "shell.execute_reply": "2021-07-27T12:44:00.055025Z",
     "shell.execute_reply.started": "2021-07-27T10:26:07.354734Z"
    },
    "papermill": {
     "duration": 0.067451,
     "end_time": "2021-07-27T12:44:00.055195",
     "exception": false,
     "start_time": "2021-07-27T12:43:59.987744",
     "status": "completed"
    },
    "tags": []
   },
   "outputs": [],
   "source": [
    "random_state = 42\n",
    "classifier = [GradientBoostingClassifier(random_state = random_state),\n",
    "             SVC(random_state = random_state),\n",
    "             RandomForestClassifier(random_state = random_state),\n",
    "             LogisticRegression(random_state = random_state),\n",
    "             KNeighborsClassifier()]\n",
    "\n",
    "gb_param_grid = {\"n_estimators\":[5,50,250,500],\n",
    "                 \"max_depth\":[1,3,5,7,9],\n",
    "                 \"learning_rate\":[0.01,0.1,1,2]}\n",
    "\n",
    "svc_param_grid = {\"kernel\" : [\"rbf\"],\n",
    "                 \"gamma\": [0.001, 0.01, 0.1, 1],\n",
    "                 \"C\": [1,10,50,100,200,300,1000]}\n",
    "\n",
    "rf_param_grid = {\"max_features\": [1,3,10],\n",
    "                \"min_samples_split\":[2,3,10],\n",
    "                \"min_samples_leaf\":[1,3,10],\n",
    "                \"bootstrap\":[False],\n",
    "                \"n_estimators\":[100,300],\n",
    "                \"criterion\":[\"gini\"]}\n",
    "\n",
    "logreg_param_grid = {\"C\":np.logspace(-3,3,7),\n",
    "                    \"penalty\": [\"l1\",\"l2\"]}\n",
    "\n",
    "knn_param_grid = {\"n_neighbors\": np.linspace(1,19,10, dtype = int).tolist(),\n",
    "                 \"weights\": [\"uniform\",\"distance\"],\n",
    "                 \"metric\":[\"euclidean\",\"manhattan\"]}\n",
    "classifier_param = [gb_param_grid,\n",
    "                   svc_param_grid,\n",
    "                   rf_param_grid,\n",
    "                   logreg_param_grid,\n",
    "                   knn_param_grid]"
   ]
  },
  {
   "cell_type": "code",
   "execution_count": 21,
   "id": "9c1b3cb8",
   "metadata": {
    "execution": {
     "iopub.execute_input": "2021-07-27T12:44:00.120788Z",
     "iopub.status.busy": "2021-07-27T12:44:00.119767Z",
     "iopub.status.idle": "2021-07-27T12:44:00.125636Z",
     "shell.execute_reply": "2021-07-27T12:44:00.126095Z",
     "shell.execute_reply.started": "2021-07-27T10:26:07.373481Z"
    },
    "papermill": {
     "duration": 0.040361,
     "end_time": "2021-07-27T12:44:00.126273",
     "exception": false,
     "start_time": "2021-07-27T12:44:00.085912",
     "status": "completed"
    },
    "tags": []
   },
   "outputs": [
    {
     "data": {
      "text/plain": [
       "dict_keys(['ccp_alpha', 'criterion', 'init', 'learning_rate', 'loss', 'max_depth', 'max_features', 'max_leaf_nodes', 'min_impurity_decrease', 'min_impurity_split', 'min_samples_leaf', 'min_samples_split', 'min_weight_fraction_leaf', 'n_estimators', 'n_iter_no_change', 'presort', 'random_state', 'subsample', 'tol', 'validation_fraction', 'verbose', 'warm_start'])"
      ]
     },
     "execution_count": 21,
     "metadata": {},
     "output_type": "execute_result"
    }
   ],
   "source": [
    "GradientBoostingClassifier().get_params().keys()"
   ]
  },
  {
   "cell_type": "code",
   "execution_count": 22,
   "id": "585683a5",
   "metadata": {
    "execution": {
     "iopub.execute_input": "2021-07-27T12:44:00.191976Z",
     "iopub.status.busy": "2021-07-27T12:44:00.191034Z",
     "iopub.status.idle": "2021-07-27T13:01:34.449116Z",
     "shell.execute_reply": "2021-07-27T13:01:34.449803Z",
     "shell.execute_reply.started": "2021-07-27T10:26:07.388742Z"
    },
    "papermill": {
     "duration": 1054.292792,
     "end_time": "2021-07-27T13:01:34.450071",
     "exception": false,
     "start_time": "2021-07-27T12:44:00.157279",
     "status": "completed"
    },
    "tags": []
   },
   "outputs": [
    {
     "name": "stdout",
     "output_type": "stream",
     "text": [
      "Fitting 10 folds for each of 80 candidates, totalling 800 fits\n"
     ]
    },
    {
     "name": "stderr",
     "output_type": "stream",
     "text": [
      "[Parallel(n_jobs=-1)]: Using backend LokyBackend with 4 concurrent workers.\n",
      "[Parallel(n_jobs=-1)]: Done  42 tasks      | elapsed:   10.4s\n",
      "[Parallel(n_jobs=-1)]: Done 192 tasks      | elapsed:  2.7min\n",
      "[Parallel(n_jobs=-1)]: Done 442 tasks      | elapsed:  6.4min\n",
      "[Parallel(n_jobs=-1)]: Done 792 tasks      | elapsed: 11.6min\n",
      "[Parallel(n_jobs=-1)]: Done 800 out of 800 | elapsed: 12.1min finished\n"
     ]
    },
    {
     "name": "stdout",
     "output_type": "stream",
     "text": [
      "0.6526530612244898\n",
      "Fitting 10 folds for each of 28 candidates, totalling 280 fits\n"
     ]
    },
    {
     "name": "stderr",
     "output_type": "stream",
     "text": [
      "[Parallel(n_jobs=-1)]: Using backend LokyBackend with 4 concurrent workers.\n",
      "[Parallel(n_jobs=-1)]: Done  42 tasks      | elapsed:    4.0s\n",
      "[Parallel(n_jobs=-1)]: Done 192 tasks      | elapsed:   32.1s\n",
      "[Parallel(n_jobs=-1)]: Done 280 out of 280 | elapsed:  1.2min finished\n"
     ]
    },
    {
     "name": "stdout",
     "output_type": "stream",
     "text": [
      "0.6742857142857143\n",
      "Fitting 10 folds for each of 54 candidates, totalling 540 fits\n"
     ]
    },
    {
     "name": "stderr",
     "output_type": "stream",
     "text": [
      "[Parallel(n_jobs=-1)]: Using backend LokyBackend with 4 concurrent workers.\n",
      "[Parallel(n_jobs=-1)]: Done  42 tasks      | elapsed:   19.8s\n",
      "[Parallel(n_jobs=-1)]: Done 192 tasks      | elapsed:  1.4min\n",
      "[Parallel(n_jobs=-1)]: Done 442 tasks      | elapsed:  3.9min\n",
      "[Parallel(n_jobs=-1)]: Done 540 out of 540 | elapsed:  4.0min finished\n"
     ]
    },
    {
     "name": "stdout",
     "output_type": "stream",
     "text": [
      "0.6587755102040816\n",
      "Fitting 10 folds for each of 14 candidates, totalling 140 fits\n"
     ]
    },
    {
     "name": "stderr",
     "output_type": "stream",
     "text": [
      "[Parallel(n_jobs=-1)]: Using backend LokyBackend with 4 concurrent workers.\n",
      "[Parallel(n_jobs=-1)]: Done 123 tasks      | elapsed:    0.5s\n",
      "[Parallel(n_jobs=-1)]: Done 140 out of 140 | elapsed:    0.5s finished\n",
      "[Parallel(n_jobs=-1)]: Using backend LokyBackend with 4 concurrent workers.\n"
     ]
    },
    {
     "name": "stdout",
     "output_type": "stream",
     "text": [
      "0.6\n",
      "Fitting 10 folds for each of 40 candidates, totalling 400 fits\n"
     ]
    },
    {
     "name": "stderr",
     "output_type": "stream",
     "text": [
      "[Parallel(n_jobs=-1)]: Done 128 tasks      | elapsed:    1.4s\n"
     ]
    },
    {
     "name": "stdout",
     "output_type": "stream",
     "text": [
      "0.6534693877551021\n"
     ]
    },
    {
     "name": "stderr",
     "output_type": "stream",
     "text": [
      "[Parallel(n_jobs=-1)]: Done 400 out of 400 | elapsed:    4.6s finished\n"
     ]
    }
   ],
   "source": [
    "cv_result = []\n",
    "best_estimators = []\n",
    "for i in range(len(classifier)):\n",
    "    clf = GridSearchCV(classifier[i], param_grid=classifier_param[i], cv = StratifiedKFold(n_splits = 10), scoring = \"accuracy\", n_jobs = -1,verbose = 1)\n",
    "    clf.fit(X_train,y_train)\n",
    "    cv_result.append(clf.best_score_)\n",
    "    best_estimators.append(clf.best_estimator_)\n",
    "    print(cv_result[i])"
   ]
  },
  {
   "cell_type": "code",
   "execution_count": 23,
   "id": "826c3255",
   "metadata": {
    "execution": {
     "iopub.execute_input": "2021-07-27T13:01:34.568225Z",
     "iopub.status.busy": "2021-07-27T13:01:34.566706Z",
     "iopub.status.idle": "2021-07-27T13:01:34.834696Z",
     "shell.execute_reply": "2021-07-27T13:01:34.834043Z",
     "shell.execute_reply.started": "2021-07-27T10:43:51.900065Z"
    },
    "papermill": {
     "duration": 0.345708,
     "end_time": "2021-07-27T13:01:34.834837",
     "exception": false,
     "start_time": "2021-07-27T13:01:34.489129",
     "status": "completed"
    },
    "tags": []
   },
   "outputs": [
    {
     "data": {
      "text/plain": [
       "Text(0.5, 1.0, 'Cross Validation Scores')"
      ]
     },
     "execution_count": 23,
     "metadata": {},
     "output_type": "execute_result"
    },
    {
     "data": {
      "image/png": "[encoded data removed]",
      "text/plain": [
       "<Figure size 720x720 with 1 Axes>"
      ]
     },
     "metadata": {},
     "output_type": "display_data"
    }
   ],
   "source": [
    "cv_results = pd.DataFrame({\"Cross Validation Means\":cv_result, \"ML Models\":[\"GradientBoostingClassifier\",\"SVM\",\"RandomForestClassifier\",\n",
    "             \"LogisticRegression\",\n",
    "             \"KNeighborsClassifier\"]})\n",
    "\n",
    "g = sns.barplot(\"Cross Validation Means\", \"ML Models\", data = cv_results)\n",
    "g.set_xlabel(\"Mean Accuracy\")\n",
    "g.set_title(\"Cross Validation Scores\")"
   ]
  },
  {
   "cell_type": "code",
   "execution_count": 24,
   "id": "1955f61e",
   "metadata": {
    "execution": {
     "iopub.execute_input": "2021-07-27T13:01:34.922897Z",
     "iopub.status.busy": "2021-07-27T13:01:34.921838Z",
     "iopub.status.idle": "2021-07-27T13:01:36.522808Z",
     "shell.execute_reply": "2021-07-27T13:01:36.522305Z",
     "shell.execute_reply.started": "2021-07-27T10:43:52.180943Z"
    },
    "papermill": {
     "duration": 1.648017,
     "end_time": "2021-07-27T13:01:36.522947",
     "exception": false,
     "start_time": "2021-07-27T13:01:34.874930",
     "status": "completed"
    },
    "tags": []
   },
   "outputs": [
    {
     "name": "stdout",
     "output_type": "stream",
     "text": [
      "0.6891064871481029\n"
     ]
    }
   ],
   "source": [
    "votingC = VotingClassifier(estimators = [('svc',best_estimators[1]),\n",
    "                                        (\"rfc\",best_estimators[2]),\n",
    "                                        (\"knn\",best_estimators[4])],\n",
    "                                        voting = \"hard\", n_jobs = -1, weights=[2, 1, 1])\n",
    "votingC = votingC.fit(X_train, y_train)\n",
    "print(accuracy_score(votingC.predict(X_test),y_test))"
   ]
  }
 ],
 "metadata": {
  "kernelspec": {
   "display_name": "Python 3",
   "language": "python",
   "name": "python3"
  },
  "language_info": {
   "codemirror_mode": {
    "name": "ipython",
    "version": 3
   },
   "file_extension": ".py",
   "mimetype": "text/x-python",
   "name": "python",
   "nbconvert_exporter": "python",
   "pygments_lexer": "ipython3",
   "version": "3.7.10"
  },
  "papermill": {
   "default_parameters": {},
   "duration": 1071.002809,
   "end_time": "2021-07-27T13:01:37.476567",
   "environment_variables": {},
   "exception": null,
   "input_path": "__notebook__.ipynb",
   "output_path": "__notebook__.ipynb",
   "parameters": {},
   "start_time": "2021-07-27T12:43:46.473758",
   "version": "2.3.3"
  }
 },
 "nbformat": 4,
 "nbformat_minor": 5
}
